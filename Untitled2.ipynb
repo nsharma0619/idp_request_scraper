{
 "cells": [
  {
   "cell_type": "code",
   "execution_count": 2,
   "metadata": {},
   "outputs": [],
   "source": [
    "import mechanicalsoup\n",
    "import pandas as pd\n",
    "import concurrent.futures"
   ]
  },
  {
   "cell_type": "code",
   "execution_count": 11,
   "metadata": {},
   "outputs": [],
   "source": [
    "df = pd.read_csv('second_half_link.csv')\n",
    "urls = df.loc[:,'url']\n",
    "urls = urls.dropna()\n",
    "def login():\n",
    "    browser = mechanicalsoup.StatefulBrowser()\n",
    "    browser.open(\"https://app.adventus.io/admin/login\")\n",
    "    browser.select_form('form[action=\"https://app.adventus.io/admin/login\"]')\n",
    "    browser[\"email\"] = \"hello@acemyprep.com\"\n",
    "    browser[\"password\"] = \"ace_my_prep_2020\"\n",
    "    browser.submit_selected()\n",
    "    return browser\n",
    "browser = login()\n",
    "dic_col = {'course_link':[],\n",
    "           'course_level': [],\n",
    "           'application_fee' : [],\n",
    "           'intake': [],\n",
    "           'url':[]\n",
    "          }\n",
    "df = pd.DataFrame(dic_col)\n"
   ]
  },
  {
   "cell_type": "code",
   "execution_count": 12,
   "metadata": {},
   "outputs": [
    {
     "name": "stdout",
     "output_type": "stream",
     "text": [
      "{'url': 'https://app.adventus.io/counsellor/student/10108/show/course/105338', 'course_link': 'https://www.suffolk.edu/business/degrees-programs/taxation/graduate-dual-degrees/msa-mst-dual-degree', 'course_level': 'Masters Coursework', 'application_fee': <dd>\n",
      "                                                                                                                                            None\n",
      "                                                                                                </dd>, 'intake': []}\n",
      "{'url': 'https://app.adventus.io/counsellor/student/10108/show/course/106314', 'course_link': 'https://partnerportal2.intoglobal.com/en/catalog/universities/drew-university/courses/into-english-for-academic-success', 'course_level': 'Language Pathway', 'application_fee': <dd>\n",
      "                                                                                                                                            None\n",
      "                                                                                                </dd>, 'intake': ['Mar']}\n",
      "{'url': 'https://app.adventus.io/counsellor/student/10108/show/course/105603', 'course_link': 'https://partnerportal2.intoglobal.com/en/catalog/universities/suffolk-university/courses/into-english-for-academic-success', 'course_level': 'Language Pathway', 'application_fee': <dd>\n",
      "                                                                                                                                            None\n",
      "                                                                                                </dd>, 'intake': ['Mar']}\n",
      "{'url': 'https://app.adventus.io/counsellor/student/10108/show/course/105527', 'course_link': 'https://partnerportal2.intoglobal.com/en/catalog/universities/suffolk-university/direct-entry', 'course_level': 'Masters Coursework', 'application_fee': <dd>\n",
      "                                                                                                                                            None\n",
      "                                                                                                </dd>, 'intake': []}\n",
      "{'url': 'https://app.adventus.io/counsellor/student/10108/show/course/106321', 'course_link': 'https://www.albany.edu/education/programs/ms-special-education-and-literacy-i', 'course_level': 'Masters Coursework', 'application_fee': <dd>\n",
      "                                                                                                                                            75 USD\n",
      "                                                                                                </dd>, 'intake': ['Aug']}\n",
      "{'url': 'https://app.adventus.io/counsellor/student/10108/show/course/103076', 'course_link': 'https://www.learndirect.com/course/project-2010', 'course_level': 'SC', 'application_fee': <dd>\n",
      "                                                                                                                                            None\n",
      "                                                                                                </dd>, 'intake': []}\n",
      "{'url': 'https://app.adventus.io/counsellor/student/10108/show/course/104890', 'course_link': 'https://partnerportal2.intoglobal.com/en/catalog/universities/the-university-of-alabama-at-birmingham/direct-entry', 'course_level': 'Masters Coursework', 'application_fee': <dd>\n",
      "                                                                                                                                            None\n",
      "                                                                                                </dd>, 'intake': ['Jan', 'May', 'Aug']}\n",
      "{'url': 'https://app.adventus.io/counsellor/student/10108/show/course/103769', 'course_link': 'https://sisweb.ucd.ie/usis/!W_HU_MENU.P_PUBLISH?p_tag=PROG&MAJR=T339', 'course_level': 'Masters Coursework', 'application_fee': <dd>\n",
      "                                                                                                                                            50 EUR\n",
      "                                                                                                </dd>, 'intake': ['Sep']}\n",
      "{'url': 'https://app.adventus.io/counsellor/student/10108/show/course/68656', 'course_link': 'https://partnerportal2.intoglobal.com/en/catalog/universities/drew-university/courses/international-year-one-in-pre-engineering', 'course_level': 'Pathway', 'application_fee': <dd>\n",
      "                                                                                                                                            None\n",
      "                                                                                                </dd>, 'intake': ['Aug', 'Jan', 'May']}\n",
      "{'url': 'https://app.adventus.io/counsellor/student/10108/show/course/104893', 'course_link': 'https://partnerportal2.intoglobal.com/en/catalog/universities/the-university-of-alabama-at-birmingham/direct-entry', 'course_level': 'Masters Coursework', 'application_fee': <dd>\n",
      "                                                                                                                                            None\n",
      "                                                                                                </dd>, 'intake': ['Jan', 'May', 'Aug']}\n"
     ]
    }
   ],
   "source": [
    "count=0\n",
    "for url in urls:\n",
    "    count+=1\n",
    "    dic={}\n",
    "#     try:\n",
    "    browser.open(url)\n",
    "    soup = browser.page\n",
    "    try:\n",
    "        dic['url']=url\n",
    "    except:\n",
    "        pass\n",
    "    try:\n",
    "        dic['course_link'] = soup.find('a', text='Go to course page')['href']\n",
    "    except:\n",
    "        pass\n",
    "    try:\n",
    "        dic['course_level'] = soup.find('dt', text='Level').findNext('dd').text\n",
    "    except:\n",
    "        pass\n",
    "    try:\n",
    "        dic['application_fee'] = soup.find('dt', text='Application Fee').findNext('dd')\n",
    "    except:\n",
    "        pass\n",
    "\n",
    "    try:\n",
    "        course_date_tab = soup.find('div', id='tab-dates')\n",
    "        thead = course_date_tab.find('thead')\n",
    "        th = [i.text for i in thead.find_all('th')]\n",
    "        startdate_index = th.index('Term Start')\n",
    "        tbody = course_date_tab.find('tbody')\n",
    "        tr = tbody.find_all('tr')\n",
    "        td =[]\n",
    "        for i in tr:\n",
    "            try:\n",
    "                td.append(i.find_all('td')[startdate_index].text.split('-')[1])\n",
    "            except:\n",
    "                pass\n",
    "        dic['intake'] = list( dict.fromkeys(td) )\n",
    "    except:\n",
    "        pass\n",
    "    df = df.append(dic, ignore_index = True)\n",
    "    print(dic)\n",
    "    if count==10:\n",
    "        break\n",
    "#     except:\n",
    "#         continue\n",
    "# df.to_csv(\"second_half_info.csv\")\n",
    "# df.to_excel(\"second_half_info.xlsx\")"
   ]
  },
  {
   "cell_type": "code",
   "execution_count": null,
   "metadata": {},
   "outputs": [],
   "source": [
    "df\n",
    "\n",
    "# browser.open('https://app.adventus.io/counsellor/student/10108/show/course/34221')\n",
    "# soup = browser.page\n",
    "# soup.find('dt', text='Application Fee').findNext('dd').text.strip('').strip('\\n')"
   ]
  },
  {
   "cell_type": "code",
   "execution_count": 17,
   "metadata": {},
   "outputs": [
    {
     "data": {
      "text/plain": [
       "<dd>\n",
       "                                                                                                                                            50 EUR\n",
       "                                                                                                </dd>"
      ]
     },
     "execution_count": 17,
     "metadata": {},
     "output_type": "execute_result"
    }
   ],
   "source": [
    "df.loc[7, 'application_fee']"
   ]
  },
  {
   "cell_type": "code",
   "execution_count": null,
   "metadata": {},
   "outputs": [],
   "source": []
  },
  {
   "cell_type": "code",
   "execution_count": null,
   "metadata": {},
   "outputs": [],
   "source": []
  },
  {
   "cell_type": "code",
   "execution_count": null,
   "metadata": {},
   "outputs": [],
   "source": []
  },
  {
   "cell_type": "code",
   "execution_count": null,
   "metadata": {},
   "outputs": [],
   "source": []
  },
  {
   "cell_type": "code",
   "execution_count": null,
   "metadata": {},
   "outputs": [],
   "source": []
  },
  {
   "cell_type": "code",
   "execution_count": null,
   "metadata": {},
   "outputs": [],
   "source": []
  },
  {
   "cell_type": "code",
   "execution_count": null,
   "metadata": {},
   "outputs": [],
   "source": []
  },
  {
   "cell_type": "code",
   "execution_count": null,
   "metadata": {},
   "outputs": [],
   "source": []
  },
  {
   "cell_type": "code",
   "execution_count": null,
   "metadata": {},
   "outputs": [],
   "source": []
  },
  {
   "cell_type": "code",
   "execution_count": null,
   "metadata": {},
   "outputs": [],
   "source": []
  },
  {
   "cell_type": "code",
   "execution_count": null,
   "metadata": {},
   "outputs": [],
   "source": []
  },
  {
   "cell_type": "code",
   "execution_count": null,
   "metadata": {},
   "outputs": [],
   "source": []
  },
  {
   "cell_type": "code",
   "execution_count": null,
   "metadata": {},
   "outputs": [],
   "source": []
  },
  {
   "cell_type": "code",
   "execution_count": null,
   "metadata": {},
   "outputs": [],
   "source": []
  },
  {
   "cell_type": "code",
   "execution_count": 2,
   "metadata": {},
   "outputs": [],
   "source": [
    "import pandas as pd"
   ]
  },
  {
   "cell_type": "code",
   "execution_count": 22,
   "metadata": {},
   "outputs": [],
   "source": [
    "df2 = pd.read_csv('extra_info.csv')\n",
    "df1 = pd.read_excel('final.xlsx', engine='openpyxl')"
   ]
  },
  {
   "cell_type": "code",
   "execution_count": 26,
   "metadata": {},
   "outputs": [],
   "source": [
    "df3 = pd.merge(df1, df2, on=\"url\", how='left')"
   ]
  },
  {
   "cell_type": "code",
   "execution_count": 23,
   "metadata": {},
   "outputs": [
    {
     "data": {
      "text/plain": [
       "(43851, 16)"
      ]
     },
     "execution_count": 23,
     "metadata": {},
     "output_type": "execute_result"
    }
   ],
   "source": [
    "df1.shape"
   ]
  },
  {
   "cell_type": "code",
   "execution_count": 15,
   "metadata": {},
   "outputs": [],
   "source": [
    "df4=df3.drop_duplicates()"
   ]
  },
  {
   "cell_type": "code",
   "execution_count": 24,
   "metadata": {},
   "outputs": [
    {
     "data": {
      "text/plain": [
       "(28521, 4)"
      ]
     },
     "execution_count": 24,
     "metadata": {},
     "output_type": "execute_result"
    }
   ],
   "source": [
    "df2.shape"
   ]
  },
  {
   "cell_type": "code",
   "execution_count": 40,
   "metadata": {},
   "outputs": [],
   "source": [
    "df3['duration updated']=df3['duration'].astype(str).replace('nan', '')+df3['Duration1'].astype(str).replace('nan', '')"
   ]
  },
  {
   "cell_type": "code",
   "execution_count": 42,
   "metadata": {},
   "outputs": [],
   "source": [
    "df3['mode updated']=df3['mode'].astype(str).replace('nan', '')+df3['mode1'].astype(str).replace('nan', '')"
   ]
  },
  {
   "cell_type": "code",
   "execution_count": 44,
   "metadata": {},
   "outputs": [],
   "source": [
    "df3.to_excel('final_adventus.xlsx')"
   ]
  },
  {
   "cell_type": "code",
   "execution_count": 39,
   "metadata": {},
   "outputs": [],
   "source": [
    "df5 = df3[df3['mode'].isnull()]"
   ]
  },
  {
   "cell_type": "code",
   "execution_count": 40,
   "metadata": {},
   "outputs": [],
   "source": [
    "df6 = pd.concat([df4, df5])"
   ]
  },
  {
   "cell_type": "code",
   "execution_count": 47,
   "metadata": {},
   "outputs": [],
   "source": [
    "df6.drop_duplicates(inplace=True)\n",
    "df6.to_csv('work_more.csv')"
   ]
  },
  {
   "cell_type": "code",
   "execution_count": null,
   "metadata": {},
   "outputs": [],
   "source": []
  },
  {
   "cell_type": "code",
   "execution_count": null,
   "metadata": {},
   "outputs": [],
   "source": []
  },
  {
   "cell_type": "code",
   "execution_count": 49,
   "metadata": {},
   "outputs": [
    {
     "name": "stdout",
     "output_type": "stream",
     "text": [
      "1\n",
      "2\n",
      "3\n",
      "4\n",
      "5\n",
      "6\n",
      "7\n",
      "8\n",
      "9\n",
      "10\n",
      "11\n",
      "12\n",
      "13\n",
      "14\n",
      "15\n"
     ]
    }
   ],
   "source": [
    "import mechanicalsoup\n",
    "import pandas as pd\n",
    "import concurrent.futures\n",
    "df = pd.read_csv('work_more.csv')\n",
    "urls = df.loc[:,'url']\n",
    "urls = urls.dropna()\n",
    "def login():\n",
    "    browser = mechanicalsoup.StatefulBrowser()\n",
    "    browser.open(\"https://app.adventus.io/admin/login\")\n",
    "    browser.select_form('form[action=\"https://app.adventus.io/admin/login\"]')\n",
    "    browser[\"email\"] = \"hello@acemyprep.com\"\n",
    "    browser[\"password\"] = \"ace_my_prep_2020\"\n",
    "    browser.submit_selected()\n",
    "    return browser\n",
    "browser = login()\n",
    "dic_col = {'Duration':[],\n",
    "           'mode': [],\n",
    "           'url':[]\n",
    "          }\n",
    "df = pd.DataFrame(dic_col)\n",
    "count=0\n",
    "for url in urls:\n",
    "    count+=1\n",
    "    dic={}\n",
    "    try:\n",
    "        browser.open(url)\n",
    "        soup = browser.page\n",
    "        try:\n",
    "            dic['url']=url\n",
    "        except:\n",
    "            pass\n",
    "        try:\n",
    "            dic['Duration'] = soup.find('dt', text='Duration').findNext('dd').text.strip(' ').strip('\\n')\n",
    "        except:\n",
    "            pass\n",
    "        try:\n",
    "            dic['mode'] = soup.find('dt', text='Delivery').findNext('dd').text.strip(' ').strip('\\n')\n",
    "        except:\n",
    "            pass\n",
    "        df = df.append(dic, ignore_index = True)\n",
    "        print(count)\n",
    "        if count==15:\n",
    "            break\n",
    "    except:\n",
    "        continue"
   ]
  },
  {
   "cell_type": "code",
   "execution_count": 50,
   "metadata": {},
   "outputs": [
    {
     "data": {
      "text/html": [
       "<div>\n",
       "<style scoped>\n",
       "    .dataframe tbody tr th:only-of-type {\n",
       "        vertical-align: middle;\n",
       "    }\n",
       "\n",
       "    .dataframe tbody tr th {\n",
       "        vertical-align: top;\n",
       "    }\n",
       "\n",
       "    .dataframe thead th {\n",
       "        text-align: right;\n",
       "    }\n",
       "</style>\n",
       "<table border=\"1\" class=\"dataframe\">\n",
       "  <thead>\n",
       "    <tr style=\"text-align: right;\">\n",
       "      <th></th>\n",
       "      <th>Duration</th>\n",
       "      <th>mode</th>\n",
       "      <th>url</th>\n",
       "    </tr>\n",
       "  </thead>\n",
       "  <tbody>\n",
       "    <tr>\n",
       "      <th>0</th>\n",
       "      <td>4 years</td>\n",
       "      <td>Online and On Campus</td>\n",
       "      <td>https://app.adventus.io/counsellor/student/101...</td>\n",
       "    </tr>\n",
       "    <tr>\n",
       "      <th>1</th>\n",
       "      <td>3 years</td>\n",
       "      <td>Online and On Campus</td>\n",
       "      <td>https://app.adventus.io/counsellor/student/101...</td>\n",
       "    </tr>\n",
       "    <tr>\n",
       "      <th>2</th>\n",
       "      <td>4 years</td>\n",
       "      <td>Online and On Campus</td>\n",
       "      <td>https://app.adventus.io/counsellor/student/101...</td>\n",
       "    </tr>\n",
       "    <tr>\n",
       "      <th>3</th>\n",
       "      <td>3 years</td>\n",
       "      <td>Online and On Campus</td>\n",
       "      <td>https://app.adventus.io/counsellor/student/101...</td>\n",
       "    </tr>\n",
       "    <tr>\n",
       "      <th>4</th>\n",
       "      <td>1 years</td>\n",
       "      <td>On Campus</td>\n",
       "      <td>https://app.adventus.io/counsellor/student/101...</td>\n",
       "    </tr>\n",
       "    <tr>\n",
       "      <th>5</th>\n",
       "      <td>1 years</td>\n",
       "      <td>Online and On Campus</td>\n",
       "      <td>https://app.adventus.io/counsellor/student/101...</td>\n",
       "    </tr>\n",
       "    <tr>\n",
       "      <th>6</th>\n",
       "      <td>4 years</td>\n",
       "      <td>On Campus</td>\n",
       "      <td>https://app.adventus.io/counsellor/student/101...</td>\n",
       "    </tr>\n",
       "    <tr>\n",
       "      <th>7</th>\n",
       "      <td>4 years</td>\n",
       "      <td>On Campus</td>\n",
       "      <td>https://app.adventus.io/counsellor/student/101...</td>\n",
       "    </tr>\n",
       "    <tr>\n",
       "      <th>8</th>\n",
       "      <td>4 years</td>\n",
       "      <td>On Campus</td>\n",
       "      <td>https://app.adventus.io/counsellor/student/101...</td>\n",
       "    </tr>\n",
       "    <tr>\n",
       "      <th>9</th>\n",
       "      <td>4 years</td>\n",
       "      <td>On Campus</td>\n",
       "      <td>https://app.adventus.io/counsellor/student/101...</td>\n",
       "    </tr>\n",
       "    <tr>\n",
       "      <th>10</th>\n",
       "      <td>21 weeks</td>\n",
       "      <td>Online and On Campus</td>\n",
       "      <td>https://app.adventus.io/counsellor/student/101...</td>\n",
       "    </tr>\n",
       "    <tr>\n",
       "      <th>11</th>\n",
       "      <td>3 years</td>\n",
       "      <td>On Campus</td>\n",
       "      <td>https://app.adventus.io/counsellor/student/101...</td>\n",
       "    </tr>\n",
       "    <tr>\n",
       "      <th>12</th>\n",
       "      <td>4 years</td>\n",
       "      <td>On Campus</td>\n",
       "      <td>https://app.adventus.io/counsellor/student/101...</td>\n",
       "    </tr>\n",
       "    <tr>\n",
       "      <th>13</th>\n",
       "      <td>3 years</td>\n",
       "      <td>Online and On Campus</td>\n",
       "      <td>https://app.adventus.io/counsellor/student/101...</td>\n",
       "    </tr>\n",
       "    <tr>\n",
       "      <th>14</th>\n",
       "      <td>3 years</td>\n",
       "      <td>On Campus</td>\n",
       "      <td>https://app.adventus.io/counsellor/student/101...</td>\n",
       "    </tr>\n",
       "  </tbody>\n",
       "</table>\n",
       "</div>"
      ],
      "text/plain": [
       "    Duration                  mode  \\\n",
       "0    4 years  Online and On Campus   \n",
       "1    3 years  Online and On Campus   \n",
       "2    4 years  Online and On Campus   \n",
       "3    3 years  Online and On Campus   \n",
       "4    1 years             On Campus   \n",
       "5    1 years  Online and On Campus   \n",
       "6    4 years             On Campus   \n",
       "7    4 years             On Campus   \n",
       "8    4 years             On Campus   \n",
       "9    4 years             On Campus   \n",
       "10  21 weeks  Online and On Campus   \n",
       "11   3 years             On Campus   \n",
       "12   4 years             On Campus   \n",
       "13   3 years  Online and On Campus   \n",
       "14   3 years             On Campus   \n",
       "\n",
       "                                                  url  \n",
       "0   https://app.adventus.io/counsellor/student/101...  \n",
       "1   https://app.adventus.io/counsellor/student/101...  \n",
       "2   https://app.adventus.io/counsellor/student/101...  \n",
       "3   https://app.adventus.io/counsellor/student/101...  \n",
       "4   https://app.adventus.io/counsellor/student/101...  \n",
       "5   https://app.adventus.io/counsellor/student/101...  \n",
       "6   https://app.adventus.io/counsellor/student/101...  \n",
       "7   https://app.adventus.io/counsellor/student/101...  \n",
       "8   https://app.adventus.io/counsellor/student/101...  \n",
       "9   https://app.adventus.io/counsellor/student/101...  \n",
       "10  https://app.adventus.io/counsellor/student/101...  \n",
       "11  https://app.adventus.io/counsellor/student/101...  \n",
       "12  https://app.adventus.io/counsellor/student/101...  \n",
       "13  https://app.adventus.io/counsellor/student/101...  \n",
       "14  https://app.adventus.io/counsellor/student/101...  "
      ]
     },
     "execution_count": 50,
     "metadata": {},
     "output_type": "execute_result"
    }
   ],
   "source": [
    "df"
   ]
  },
  {
   "cell_type": "code",
   "execution_count": null,
   "metadata": {},
   "outputs": [],
   "source": []
  },
  {
   "cell_type": "code",
   "execution_count": null,
   "metadata": {},
   "outputs": [],
   "source": []
  },
  {
   "cell_type": "code",
   "execution_count": null,
   "metadata": {},
   "outputs": [],
   "source": []
  },
  {
   "cell_type": "code",
   "execution_count": null,
   "metadata": {},
   "outputs": [],
   "source": []
  }
 ],
 "metadata": {
  "kernelspec": {
   "display_name": "Python 3",
   "language": "python",
   "name": "python3"
  },
  "language_info": {
   "codemirror_mode": {
    "name": "ipython",
    "version": 3
   },
   "file_extension": ".py",
   "mimetype": "text/x-python",
   "name": "python",
   "nbconvert_exporter": "python",
   "pygments_lexer": "ipython3",
   "version": "3.8.3"
  }
 },
 "nbformat": 4,
 "nbformat_minor": 4
}
